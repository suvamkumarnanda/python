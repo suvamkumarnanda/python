{
 "cells": [
  {
   "cell_type": "markdown",
   "metadata": {
    "collapsed": true
   },
   "source": [
    "print('Hello World')"
   ]
  },
  {
   "cell_type": "code",
   "execution_count": 1,
   "metadata": {},
   "outputs": [
    {
     "name": "stdout",
     "output_type": "stream",
     "text": [
      "sum  25\n"
     ]
    }
   ],
   "source": [
    "# First python program to add two numbers\n",
    "a,b=10,15\n",
    "print(\"sum \",a+b)"
   ]
  },
  {
   "cell_type": "code",
   "execution_count": 2,
   "metadata": {},
   "outputs": [
    {
     "name": "stdout",
     "output_type": "stream",
     "text": [
      "remainder  5\n"
     ]
    }
   ],
   "source": [
    "# python program to find out the remainder of two numbers\n",
    "a,b=85,8\n",
    "print(\"remainder \",a%b)"
   ]
  },
  {
   "cell_type": "code",
   "execution_count": 3,
   "metadata": {},
   "outputs": [
    {
     "name": "stdout",
     "output_type": "stream",
     "text": [
      "Multiplication  20\n"
     ]
    }
   ],
   "source": [
    "# python program to multiply two numbers\n",
    "a,b=4,5\n",
    "print(\"Multiplication \",a*b)"
   ]
  },
  {
   "cell_type": "code",
   "execution_count": 4,
   "metadata": {},
   "outputs": [
    {
     "name": "stdout",
     "output_type": "stream",
     "text": [
      "Name:Suvam Kumar Nanda\n",
      "Roll no:192176\n",
      "Branch:CSE\n",
      "Section:D\n"
     ]
    }
   ],
   "source": [
    "print(\"Name:Suvam Kumar Nanda\\nRoll no:192176\\nBranch:CSE\\nSection:D\")"
   ]
  },
  {
   "cell_type": "code",
   "execution_count": 5,
   "metadata": {},
   "outputs": [
    {
     "name": "stdout",
     "output_type": "stream",
     "text": [
      "Enter your age : 45\n",
      "50.0\n"
     ]
    }
   ],
   "source": [
    "a = float(input(\"Enter your age : \"))\n",
    "print(a+5)"
   ]
  },
  {
   "cell_type": "code",
   "execution_count": 6,
   "metadata": {},
   "outputs": [
    {
     "name": "stdout",
     "output_type": "stream",
     "text": [
      "Enter year:2060\n",
      "Enter month:1\n",
      "    January 2060\n",
      "Mo Tu We Th Fr Sa Su\n",
      "          1  2  3  4\n",
      " 5  6  7  8  9 10 11\n",
      "12 13 14 15 16 17 18\n",
      "19 20 21 22 23 24 25\n",
      "26 27 28 29 30 31\n",
      "\n"
     ]
    }
   ],
   "source": [
    "import calendar\n",
    "yy=int(input(\"Enter year:\"))\n",
    "mm=int(input(\"Enter month:\"))\n",
    "print(calendar.month(yy,mm))"
   ]
  },
  {
   "cell_type": "code",
   "execution_count": 7,
   "metadata": {},
   "outputs": [
    {
     "name": "stdout",
     "output_type": "stream",
     "text": [
      "Sum=  (6+10j)\n"
     ]
    }
   ],
   "source": [
    "# program in python to add two complex numbers\n",
    "c1=2.8+5.4j\n",
    "c2=3.2+4.6j\n",
    "c3=c1+c2\n",
    "print(\"Sum= \",c3)\n"
   ]
  },
  {
   "cell_type": "code",
   "execution_count": 8,
   "metadata": {},
   "outputs": [
    {
     "data": {
      "text/plain": [
       "20"
      ]
     },
     "execution_count": 8,
     "metadata": {},
     "output_type": "execute_result"
    }
   ],
   "source": [
    "# program in python to convert a float type number into an integer typr number\n",
    "x=20.08\n",
    "int(x)"
   ]
  },
  {
   "cell_type": "code",
   "execution_count": 9,
   "metadata": {},
   "outputs": [
    {
     "data": {
      "text/plain": [
       "87.0"
      ]
     },
     "execution_count": 9,
     "metadata": {},
     "output_type": "execute_result"
    }
   ],
   "source": [
    "# program in python to convert an integer number into float type number\n",
    "y=87\n",
    "float(y)"
   ]
  },
  {
   "cell_type": "code",
   "execution_count": 10,
   "metadata": {},
   "outputs": [
    {
     "data": {
      "text/plain": [
       "(27+0j)"
      ]
     },
     "execution_count": 10,
     "metadata": {},
     "output_type": "execute_result"
    }
   ],
   "source": [
    "# program in python to convert an integer type number into complex number\n",
    "t=27\n",
    "complex(t)"
   ]
  },
  {
   "cell_type": "code",
   "execution_count": 11,
   "metadata": {},
   "outputs": [
    {
     "data": {
      "text/plain": [
       "(5-8j)"
      ]
     },
     "execution_count": 11,
     "metadata": {},
     "output_type": "execute_result"
    }
   ],
   "source": [
    "# program in python to convert an integer number into complex number\n",
    "a=5\n",
    "b=-8\n",
    "complex(a,b)"
   ]
  },
  {
   "cell_type": "code",
   "execution_count": 12,
   "metadata": {},
   "outputs": [
    {
     "name": "stdout",
     "output_type": "stream",
     "text": [
      "Octal 17=  15\n",
      "Binary 1110010=  114\n",
      "Hexadecimal 1c2=  450\n"
     ]
    }
   ],
   "source": [
    "# program in python to convert octal,binary,hexadecimal numbers into decimal number\n",
    "n1=0O17\n",
    "n2=0B1110010\n",
    "n3=0X1c2\n",
    "int(n1)\n",
    "print(\"Octal 17= \",n1)\n",
    "int(n2)\n",
    "print(\"Binary 1110010= \",n2)\n",
    "int(n3)\n",
    "print(\"Hexadecimal 1c2= \",n3)"
   ]
  },
  {
   "cell_type": "code",
   "execution_count": 13,
   "metadata": {},
   "outputs": [
    {
     "name": "stdout",
     "output_type": "stream",
     "text": [
      "450\n"
     ]
    }
   ],
   "source": [
    "str=\"1c2\"\n",
    "n= int(str, 16)\n",
    "print(n)"
   ]
  },
  {
   "cell_type": "code",
   "execution_count": 14,
   "metadata": {},
   "outputs": [
    {
     "name": "stdout",
     "output_type": "stream",
     "text": [
      "Octal 17=  15\n",
      "binary 1110010=  114\n",
      "Hexadecimal 1c2=  450\n"
     ]
    }
   ],
   "source": [
    "# program in python to convert the numbers into decimal number systems\n",
    "s1=\"17\"\n",
    "s2=\"1110010\"\n",
    "s3=\"1c2\"\n",
    "n=int(s1,8)\n",
    "print(\"Octal 17= \",n)\n",
    "n=int(s2,2)\n",
    "print(\"binary 1110010= \",n)\n",
    "n=int(s3,16)\n",
    "print(\"Hexadecimal 1c2= \",n)"
   ]
  },
  {
   "cell_type": "code",
   "execution_count": 15,
   "metadata": {},
   "outputs": [
    {
     "name": "stdout",
     "output_type": "stream",
     "text": [
      "0o12\n",
      "0b1010\n",
      "0xa\n"
     ]
    }
   ],
   "source": [
    "# program in python to convert the decimal number into other number systems\n",
    "a=10\n",
    "b=oct(a)\n",
    "print(b)\n",
    "b=bin(a)\n",
    "print(b)\n",
    "b=hex(a)\n",
    "print(b)"
   ]
  },
  {
   "cell_type": "code",
   "execution_count": 16,
   "metadata": {},
   "outputs": [
    {
     "name": "stdout",
     "output_type": "stream",
     "text": [
      "sum=  20\n"
     ]
    }
   ],
   "source": [
    "# program in python to add two equal numbers\n",
    "a=b=10\n",
    "print(\"sum= \",a+b)"
   ]
  },
  {
   "cell_type": "code",
   "execution_count": 17,
   "metadata": {},
   "outputs": [
    {
     "name": "stdout",
     "output_type": "stream",
     "text": [
      "Hello World\n"
     ]
    }
   ],
   "source": [
    "# program in python for boolean expression(with static initialization)\n",
    "a,b=10,5\n",
    "if(a>b):print(\"Hello World\")"
   ]
  },
  {
   "cell_type": "code",
   "execution_count": 18,
   "metadata": {},
   "outputs": [
    {
     "name": "stdout",
     "output_type": "stream",
     "text": [
      "Enter the value4\n",
      "Enter the value2\n",
      "Hello World\n"
     ]
    }
   ],
   "source": [
    "# program in python for Boolean expression (with dynamic initialization)\n",
    "a=int(input(\"Enter the value\"))\n",
    "b=int(input(\"Enter the value\"))\n",
    "if(a>b):print(\"Hello World\")"
   ]
  },
  {
   "cell_type": "code",
   "execution_count": 19,
   "metadata": {},
   "outputs": [
    {
     "name": "stdout",
     "output_type": "stream",
     "text": [
      "True\n",
      "False\n"
     ]
    }
   ],
   "source": [
    "a=10>5\n",
    "print(a)\n",
    "a=5>10\n",
    "print(a)"
   ]
  },
  {
   "cell_type": "code",
   "execution_count": 21,
   "metadata": {},
   "outputs": [
    {
     "name": "stdout",
     "output_type": "stream",
     "text": [
      "Welcome\n"
     ]
    }
   ],
   "source": [
    "# program in python the  verify function of string datatype\n",
    "str=\"Welcome\"\n",
    "print(str)"
   ]
  },
  {
   "cell_type": "code",
   "execution_count": 24,
   "metadata": {},
   "outputs": [
    {
     "name": "stdout",
     "output_type": "stream",
     "text": [
      "welcome to 'Bhadrak'\n"
     ]
    }
   ],
   "source": [
    "str=\"\"\"welcome to 'Bhadrak'\"\"\"\n",
    "print(str)"
   ]
  },
  {
   "cell_type": "code",
   "execution_count": 34,
   "metadata": {},
   "outputs": [
    {
     "name": "stdout",
     "output_type": "stream",
     "text": [
      "Suvam Kumar Nanda\n",
      "S\n",
      "u\n",
      "v\n",
      "a\n",
      "m\n",
      " \n",
      "K\n",
      "u\n",
      "m\n",
      "a\n",
      "r\n",
      " \n",
      "N\n",
      "a\n",
      "n\n",
      "d\n",
      "a\n",
      "Suvam Kumar NandaSuvam Kumar Nanda\n",
      "m Ku\n"
     ]
    }
   ],
   "source": [
    "# program in python to distinguish the function of slice operator in str datatype\n",
    "s=\"Suvam Kumar Nanda\"\n",
    "print(s)\n",
    "print(s[0])\n",
    "print(s[1])\n",
    "print(s[2])\n",
    "print(s[3])\n",
    "print(s[4])\n",
    "print(s[5])\n",
    "print(s[6])\n",
    "print(s[7])\n",
    "print(s[8])\n",
    "print(s[9])\n",
    "print(s[10])\n",
    "print(s[11])\n",
    "print(s[12])\n",
    "print(s[13])\n",
    "print(s[14])\n",
    "print(s[15])\n",
    "print(s[16])\n",
    "print(s*2)\n",
    "print(s[4:8])"
   ]
  },
  {
   "cell_type": "code",
   "execution_count": 5,
   "metadata": {},
   "outputs": [
    {
     "name": "stdout",
     "output_type": "stream",
     "text": [
      "10\n"
     ]
    }
   ],
   "source": [
    "# program in python for bytes datatype\n",
    "elements=[10,20,0,26]\n",
    "x=bytes(elements)\n",
    "print(x[0])"
   ]
  },
  {
   "cell_type": "code",
   "execution_count": 37,
   "metadata": {},
   "outputs": [
    {
     "name": "stdout",
     "output_type": "stream",
     "text": [
      "20\n",
      "25\n",
      "68\n",
      "89\n"
     ]
    }
   ],
   "source": [
    "# program in python to uderstand the bytesarray\n",
    "elements=[20,25,68,89]\n",
    "x=bytes(elements)\n",
    "for i in x:print(i)"
   ]
  },
  {
   "cell_type": "code",
   "execution_count": 3,
   "metadata": {},
   "outputs": [
    {
     "name": "stdout",
     "output_type": "stream",
     "text": [
      "12\n",
      "45\n"
     ]
    }
   ],
   "source": [
    "# program in python to understand bytearray\n",
    "elements=[12,56,87,25,36]   \n",
    "x=bytearray(elements)\n",
    "print(x[0])\n",
    "x[0]=45\n",
    "x[1]=57\n",
    "print(x[0])"
   ]
  },
  {
   "cell_type": "code",
   "execution_count": 6,
   "metadata": {},
   "outputs": [
    {
     "name": "stdout",
     "output_type": "stream",
     "text": [
      "89\n",
      "34\n",
      "30\n",
      "40\n",
      "50\n"
     ]
    }
   ],
   "source": [
    "# program in python to understand bytesarray type array\n",
    "elements=[10,20,30,40,50]\n",
    "x=bytearray(elements)\n",
    "x[0]=89\n",
    "x[1]=34\n",
    "for i in x:print(i)"
   ]
  },
  {
   "cell_type": "code",
   "execution_count": 10,
   "metadata": {},
   "outputs": [
    {
     "name": "stdout",
     "output_type": "stream",
     "text": [
      "(28, 25, -45, 'mukesh', 'rahul')\n",
      "28\n",
      "25\n",
      "-45\n",
      "mukesh\n",
      "rahul\n"
     ]
    }
   ],
   "source": [
    "# program in python to understand tuple datatype\n",
    "tpl=(28,25,-45,'mukesh',\"rahul\")\n",
    "print(tpl)\n",
    "print(tpl[0])\n",
    "print(tpl[1])\n",
    "print(tpl[2])\n",
    "print(tpl[3])\n",
    "print(tpl[4])\n"
   ]
  },
  {
   "cell_type": "code",
   "execution_count": 4,
   "metadata": {},
   "outputs": [
    {
     "name": "stdout",
     "output_type": "stream",
     "text": [
      "10\n",
      "12\n",
      "14\n",
      "16\n",
      "18\n",
      "20\n",
      "22\n",
      "24\n",
      "26\n",
      "28\n"
     ]
    }
   ],
   "source": [
    "# program in python to understand range datatype\n",
    "r=range(10,30,2)\n",
    "for i in r:print(i)"
   ]
  },
  {
   "cell_type": "code",
   "execution_count": 5,
   "metadata": {},
   "outputs": [
    {
     "name": "stdout",
     "output_type": "stream",
     "text": [
      "{'l', 'e', 'H', 'o'}\n"
     ]
    }
   ],
   "source": [
    "# program in python to understand the set datatypes\n",
    "s=set(\"Hello\")\n",
    "print(s)"
   ]
  },
  {
   "cell_type": "code",
   "execution_count": 6,
   "metadata": {},
   "outputs": [
    {
     "name": "stdout",
     "output_type": "stream",
     "text": [
      "{35, 39, 45, 23, 925}\n"
     ]
    }
   ],
   "source": [
    "# program in python to understand set datatype\n",
    "s={45,35,39,23,925,925,35,39}\n",
    "print(s)"
   ]
  },
  {
   "cell_type": "code",
   "execution_count": 7,
   "metadata": {},
   "outputs": [
    {
     "name": "stdout",
     "output_type": "stream",
     "text": [
      "{35, 39, 45, 50, 23, 60, 925}\n"
     ]
    }
   ],
   "source": [
    "s.update([50,60])\n",
    "print(s)"
   ]
  },
  {
   "cell_type": "code",
   "execution_count": 8,
   "metadata": {},
   "outputs": [
    {
     "name": "stdout",
     "output_type": "stream",
     "text": [
      "{35, 39, 45, 23, 60, 925}\n"
     ]
    }
   ],
   "source": [
    "\n",
    "s.remove(50)\n",
    "print(s)"
   ]
  },
  {
   "cell_type": "code",
   "execution_count": 11,
   "metadata": {},
   "outputs": [
    {
     "name": "stdout",
     "output_type": "stream",
     "text": [
      "{234, 74, 19.63, 95}\n",
      "frozenset({234, 74, 19.63, 95})\n"
     ]
    }
   ],
   "source": [
    "# program in python to understand the frozenset datatype\n",
    "s={19.63,74,95,234}\n",
    "print(s)\n",
    "fs=frozenset(s)\n",
    "print(fs)\n"
   ]
  },
  {
   "cell_type": "code",
   "execution_count": null,
   "metadata": {},
   "outputs": [],
   "source": []
  }
 ],
 "metadata": {
  "kernelspec": {
   "display_name": "Python 3",
   "language": "python",
   "name": "python3"
  },
  "language_info": {
   "codemirror_mode": {
    "name": "ipython",
    "version": 3
   },
   "file_extension": ".py",
   "mimetype": "text/x-python",
   "name": "python",
   "nbconvert_exporter": "python",
   "pygments_lexer": "ipython3",
   "version": "3.7.6"
  }
 },
 "nbformat": 4,
 "nbformat_minor": 2
}
